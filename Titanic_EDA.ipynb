{
 "cells": [
  {
   "cell_type": "markdown",
   "id": "8cea3297",
   "metadata": {},
   "source": [
    "# Titanic Data Analysis and Preprocessing"
   ]
  },
  {
   "cell_type": "code",
   "execution_count": null,
   "id": "2e5dcbbe",
   "metadata": {},
   "outputs": [],
   "source": [
    "\n",
    "# Titanic Dataset - EDA and Preprocessing\n",
    "\n",
    "## Step 1: Import Libraries\n"
   ]
  },
  {
   "cell_type": "code",
   "execution_count": null,
   "id": "ef3e2ce0",
   "metadata": {},
   "outputs": [],
   "source": [
    "\n",
    "import pandas as pd\n",
    "import seaborn as sns\n",
    "import matplotlib.pyplot as plt\n",
    "```\n",
    "\n",
    "## Step 2: Load Data\n"
   ]
  },
  {
   "cell_type": "code",
   "execution_count": null,
   "id": "838307ea",
   "metadata": {},
   "outputs": [],
   "source": [
    "\n",
    "train_df = pd.read_csv(\"train.csv\")\n",
    "test_df = pd.read_csv(\"test.csv\")\n",
    "```\n",
    "\n",
    "## Step 3: Handle Missing Data\n"
   ]
  },
  {
   "cell_type": "code",
   "execution_count": null,
   "id": "9992479b",
   "metadata": {},
   "outputs": [],
   "source": [
    "\n",
    "df = train_df.copy()\n",
    "df['Age'].fillna(df['Age'].median(), inplace=True)\n",
    "df['Embarked'].fillna(df['Embarked'].mode()[0], inplace=True)\n",
    "df.drop(columns='Cabin', inplace=True)\n",
    "```\n",
    "\n",
    "## Step 4: Encode Categorical Variables\n"
   ]
  },
  {
   "cell_type": "code",
   "execution_count": null,
   "id": "606d8bdc",
   "metadata": {},
   "outputs": [],
   "source": [
    "\n",
    "df['Sex'] = df['Sex'].map({'male': 0, 'female': 1})\n",
    "df['Embarked'] = df['Embarked'].map({'S': 0, 'C': 1, 'Q': 2})\n",
    "```\n",
    "\n",
    "## Step 5: Visualizations\n"
   ]
  },
  {
   "cell_type": "code",
   "execution_count": null,
   "id": "86a28a16",
   "metadata": {},
   "outputs": [],
   "source": [
    "\n",
    "plt.figure(figsize=(15, 10))\n",
    "\n",
    "plt.subplot(2, 3, 1)\n",
    "sns.countplot(data=df, x='Survived')\n",
    "plt.title(\"Survival Count\")\n",
    "\n",
    "plt.subplot(2, 3, 2)\n",
    "sns.countplot(data=df, x='Sex', hue='Survived')\n",
    "plt.title(\"Survival by Sex\")\n",
    "\n",
    "plt.subplot(2, 3, 3)\n",
    "sns.countplot(data=df, x='Pclass', hue='Survived')\n",
    "plt.title(\"Survival by Pclass\")\n",
    "\n",
    "plt.subplot(2, 3, 4)\n",
    "sns.histplot(data=df, x='Age', hue='Survived', bins=30, kde=True)\n",
    "plt.title(\"Survival by Age\")\n",
    "\n",
    "plt.subplot(2, 3, 5)\n",
    "sns.histplot(data=df, x='Fare', hue='Survived', bins=30, kde=True)\n",
    "plt.title(\"Survival by Fare\")\n",
    "\n",
    "plt.subplot(2, 3, 6)\n",
    "sns.countplot(data=df, x='Embarked', hue='Survived')\n",
    "plt.title(\"Survival by Embarked\")\n",
    "\n",
    "plt.tight_layout()\n",
    "plt.show()\n",
    "```\n"
   ]
  }
 ],
 "metadata": {},
 "nbformat": 4,
 "nbformat_minor": 5
}
